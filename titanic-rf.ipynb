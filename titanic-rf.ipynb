{
 "cells": [
  {
   "cell_type": "code",
   "execution_count": 1,
   "id": "db239f7e",
   "metadata": {
    "execution": {
     "iopub.execute_input": "2023-04-23T00:06:31.311052Z",
     "iopub.status.busy": "2023-04-23T00:06:31.310569Z",
     "iopub.status.idle": "2023-04-23T00:06:32.567061Z",
     "shell.execute_reply": "2023-04-23T00:06:32.565686Z"
    },
    "papermill": {
     "duration": 1.26918,
     "end_time": "2023-04-23T00:06:32.570068",
     "exception": false,
     "start_time": "2023-04-23T00:06:31.300888",
     "status": "completed"
    },
    "tags": []
   },
   "outputs": [
    {
     "name": "stdout",
     "output_type": "stream",
     "text": [
      "/kaggle/input/titanic/train.csv\n",
      "/kaggle/input/titanic/test.csv\n",
      "/kaggle/input/titanic/gender_submission.csv\n"
     ]
    }
   ],
   "source": [
    "import numpy as np\n",
    "import pandas as pd\n",
    "import seaborn as sns\n",
    "import os\n",
    "for dirname, _, filenames in os.walk('/kaggle/input'):\n",
    "    for filename in filenames:\n",
    "        print(os.path.join(dirname, filename))"
   ]
  },
  {
   "cell_type": "code",
   "execution_count": 2,
   "id": "aacae494",
   "metadata": {
    "execution": {
     "iopub.execute_input": "2023-04-23T00:06:32.584541Z",
     "iopub.status.busy": "2023-04-23T00:06:32.584155Z",
     "iopub.status.idle": "2023-04-23T00:06:32.613050Z",
     "shell.execute_reply": "2023-04-23T00:06:32.611730Z"
    },
    "papermill": {
     "duration": 0.03914,
     "end_time": "2023-04-23T00:06:32.615599",
     "exception": false,
     "start_time": "2023-04-23T00:06:32.576459",
     "status": "completed"
    },
    "tags": []
   },
   "outputs": [],
   "source": [
    "train_data = pd.read_csv('/kaggle/input/titanic/train.csv')\n",
    "test_data = pd.read_csv('/kaggle/input/titanic/test.csv')"
   ]
  },
  {
   "cell_type": "code",
   "execution_count": 3,
   "id": "04c458b0",
   "metadata": {
    "execution": {
     "iopub.execute_input": "2023-04-23T00:06:32.630243Z",
     "iopub.status.busy": "2023-04-23T00:06:32.629064Z",
     "iopub.status.idle": "2023-04-23T00:06:32.662118Z",
     "shell.execute_reply": "2023-04-23T00:06:32.660830Z"
    },
    "papermill": {
     "duration": 0.043,
     "end_time": "2023-04-23T00:06:32.664772",
     "exception": false,
     "start_time": "2023-04-23T00:06:32.621772",
     "status": "completed"
    },
    "tags": []
   },
   "outputs": [
    {
     "data": {
      "text/html": [
       "<div>\n",
       "<style scoped>\n",
       "    .dataframe tbody tr th:only-of-type {\n",
       "        vertical-align: middle;\n",
       "    }\n",
       "\n",
       "    .dataframe tbody tr th {\n",
       "        vertical-align: top;\n",
       "    }\n",
       "\n",
       "    .dataframe thead th {\n",
       "        text-align: right;\n",
       "    }\n",
       "</style>\n",
       "<table border=\"1\" class=\"dataframe\">\n",
       "  <thead>\n",
       "    <tr style=\"text-align: right;\">\n",
       "      <th></th>\n",
       "      <th>PassengerId</th>\n",
       "      <th>Survived</th>\n",
       "      <th>Pclass</th>\n",
       "      <th>Name</th>\n",
       "      <th>Sex</th>\n",
       "      <th>Age</th>\n",
       "      <th>SibSp</th>\n",
       "      <th>Parch</th>\n",
       "      <th>Ticket</th>\n",
       "      <th>Fare</th>\n",
       "      <th>Cabin</th>\n",
       "      <th>Embarked</th>\n",
       "    </tr>\n",
       "  </thead>\n",
       "  <tbody>\n",
       "    <tr>\n",
       "      <th>0</th>\n",
       "      <td>1</td>\n",
       "      <td>0</td>\n",
       "      <td>3</td>\n",
       "      <td>Braund, Mr. Owen Harris</td>\n",
       "      <td>male</td>\n",
       "      <td>22.0</td>\n",
       "      <td>1</td>\n",
       "      <td>0</td>\n",
       "      <td>A/5 21171</td>\n",
       "      <td>7.2500</td>\n",
       "      <td>NaN</td>\n",
       "      <td>S</td>\n",
       "    </tr>\n",
       "    <tr>\n",
       "      <th>1</th>\n",
       "      <td>2</td>\n",
       "      <td>1</td>\n",
       "      <td>1</td>\n",
       "      <td>Cumings, Mrs. John Bradley (Florence Briggs Th...</td>\n",
       "      <td>female</td>\n",
       "      <td>38.0</td>\n",
       "      <td>1</td>\n",
       "      <td>0</td>\n",
       "      <td>PC 17599</td>\n",
       "      <td>71.2833</td>\n",
       "      <td>C85</td>\n",
       "      <td>C</td>\n",
       "    </tr>\n",
       "    <tr>\n",
       "      <th>2</th>\n",
       "      <td>3</td>\n",
       "      <td>1</td>\n",
       "      <td>3</td>\n",
       "      <td>Heikkinen, Miss. Laina</td>\n",
       "      <td>female</td>\n",
       "      <td>26.0</td>\n",
       "      <td>0</td>\n",
       "      <td>0</td>\n",
       "      <td>STON/O2. 3101282</td>\n",
       "      <td>7.9250</td>\n",
       "      <td>NaN</td>\n",
       "      <td>S</td>\n",
       "    </tr>\n",
       "    <tr>\n",
       "      <th>3</th>\n",
       "      <td>4</td>\n",
       "      <td>1</td>\n",
       "      <td>1</td>\n",
       "      <td>Futrelle, Mrs. Jacques Heath (Lily May Peel)</td>\n",
       "      <td>female</td>\n",
       "      <td>35.0</td>\n",
       "      <td>1</td>\n",
       "      <td>0</td>\n",
       "      <td>113803</td>\n",
       "      <td>53.1000</td>\n",
       "      <td>C123</td>\n",
       "      <td>S</td>\n",
       "    </tr>\n",
       "    <tr>\n",
       "      <th>4</th>\n",
       "      <td>5</td>\n",
       "      <td>0</td>\n",
       "      <td>3</td>\n",
       "      <td>Allen, Mr. William Henry</td>\n",
       "      <td>male</td>\n",
       "      <td>35.0</td>\n",
       "      <td>0</td>\n",
       "      <td>0</td>\n",
       "      <td>373450</td>\n",
       "      <td>8.0500</td>\n",
       "      <td>NaN</td>\n",
       "      <td>S</td>\n",
       "    </tr>\n",
       "  </tbody>\n",
       "</table>\n",
       "</div>"
      ],
      "text/plain": [
       "   PassengerId  Survived  Pclass  \\\n",
       "0            1         0       3   \n",
       "1            2         1       1   \n",
       "2            3         1       3   \n",
       "3            4         1       1   \n",
       "4            5         0       3   \n",
       "\n",
       "                                                Name     Sex   Age  SibSp  \\\n",
       "0                            Braund, Mr. Owen Harris    male  22.0      1   \n",
       "1  Cumings, Mrs. John Bradley (Florence Briggs Th...  female  38.0      1   \n",
       "2                             Heikkinen, Miss. Laina  female  26.0      0   \n",
       "3       Futrelle, Mrs. Jacques Heath (Lily May Peel)  female  35.0      1   \n",
       "4                           Allen, Mr. William Henry    male  35.0      0   \n",
       "\n",
       "   Parch            Ticket     Fare Cabin Embarked  \n",
       "0      0         A/5 21171   7.2500   NaN        S  \n",
       "1      0          PC 17599  71.2833   C85        C  \n",
       "2      0  STON/O2. 3101282   7.9250   NaN        S  \n",
       "3      0            113803  53.1000  C123        S  \n",
       "4      0            373450   8.0500   NaN        S  "
      ]
     },
     "execution_count": 3,
     "metadata": {},
     "output_type": "execute_result"
    }
   ],
   "source": [
    "train_data.head()"
   ]
  },
  {
   "cell_type": "code",
   "execution_count": 4,
   "id": "4f30c98a",
   "metadata": {
    "execution": {
     "iopub.execute_input": "2023-04-23T00:06:32.679750Z",
     "iopub.status.busy": "2023-04-23T00:06:32.679290Z",
     "iopub.status.idle": "2023-04-23T00:06:32.705095Z",
     "shell.execute_reply": "2023-04-23T00:06:32.703634Z"
    },
    "papermill": {
     "duration": 0.036253,
     "end_time": "2023-04-23T00:06:32.707655",
     "exception": false,
     "start_time": "2023-04-23T00:06:32.671402",
     "status": "completed"
    },
    "tags": []
   },
   "outputs": [
    {
     "name": "stdout",
     "output_type": "stream",
     "text": [
      "<class 'pandas.core.frame.DataFrame'>\n",
      "RangeIndex: 891 entries, 0 to 890\n",
      "Data columns (total 12 columns):\n",
      " #   Column       Non-Null Count  Dtype  \n",
      "---  ------       --------------  -----  \n",
      " 0   PassengerId  891 non-null    int64  \n",
      " 1   Survived     891 non-null    int64  \n",
      " 2   Pclass       891 non-null    int64  \n",
      " 3   Name         891 non-null    object \n",
      " 4   Sex          891 non-null    object \n",
      " 5   Age          714 non-null    float64\n",
      " 6   SibSp        891 non-null    int64  \n",
      " 7   Parch        891 non-null    int64  \n",
      " 8   Ticket       891 non-null    object \n",
      " 9   Fare         891 non-null    float64\n",
      " 10  Cabin        204 non-null    object \n",
      " 11  Embarked     889 non-null    object \n",
      "dtypes: float64(2), int64(5), object(5)\n",
      "memory usage: 83.7+ KB\n"
     ]
    }
   ],
   "source": [
    "train_data.info()"
   ]
  },
  {
   "cell_type": "code",
   "execution_count": 5,
   "id": "3f677564",
   "metadata": {
    "execution": {
     "iopub.execute_input": "2023-04-23T00:06:32.723103Z",
     "iopub.status.busy": "2023-04-23T00:06:32.722277Z",
     "iopub.status.idle": "2023-04-23T00:06:32.732962Z",
     "shell.execute_reply": "2023-04-23T00:06:32.731768Z"
    },
    "papermill": {
     "duration": 0.021703,
     "end_time": "2023-04-23T00:06:32.735745",
     "exception": false,
     "start_time": "2023-04-23T00:06:32.714042",
     "status": "completed"
    },
    "tags": []
   },
   "outputs": [
    {
     "name": "stdout",
     "output_type": "stream",
     "text": [
      "Women:  74.20382165605095\n",
      "Men:  18.890814558058924\n"
     ]
    }
   ],
   "source": [
    "women = train_data.loc[train_data['Sex'] == 'female']['Survived']\n",
    "print(\"Women: \", sum(women)/len(women)*100)\n",
    "men = train_data.loc[train_data['Sex'] == 'male']['Survived']\n",
    "print(\"Men: \", sum(men)/len(men)*100)"
   ]
  },
  {
   "cell_type": "code",
   "execution_count": 6,
   "id": "9be69fc3",
   "metadata": {
    "execution": {
     "iopub.execute_input": "2023-04-23T00:06:32.751292Z",
     "iopub.status.busy": "2023-04-23T00:06:32.750072Z",
     "iopub.status.idle": "2023-04-23T00:06:32.943420Z",
     "shell.execute_reply": "2023-04-23T00:06:32.942058Z"
    },
    "papermill": {
     "duration": 0.203796,
     "end_time": "2023-04-23T00:06:32.946050",
     "exception": false,
     "start_time": "2023-04-23T00:06:32.742254",
     "status": "completed"
    },
    "tags": []
   },
   "outputs": [
    {
     "data": {
      "image/png": "[encoded data removed]",
      "text/plain": [
       "<Figure size 640x480 with 1 Axes>"
      ]
     },
     "metadata": {},
     "output_type": "display_data"
    }
   ],
   "source": [
    "import matplotlib.pyplot as plt\n",
    "\n",
    "\n",
    "x = np.array([\"women\",\"men\"])\n",
    "y = np.array([74.20382165605095,18.890814558058924])\n",
    "\n",
    "plt.bar(x,y)\n",
    "plt.show()"
   ]
  },
  {
   "cell_type": "code",
   "execution_count": 7,
   "id": "f17143de",
   "metadata": {
    "execution": {
     "iopub.execute_input": "2023-04-23T00:06:32.961721Z",
     "iopub.status.busy": "2023-04-23T00:06:32.961265Z",
     "iopub.status.idle": "2023-04-23T00:06:32.972887Z",
     "shell.execute_reply": "2023-04-23T00:06:32.971564Z"
    },
    "papermill": {
     "duration": 0.023176,
     "end_time": "2023-04-23T00:06:32.976024",
     "exception": false,
     "start_time": "2023-04-23T00:06:32.952848",
     "status": "completed"
    },
    "tags": []
   },
   "outputs": [
    {
     "name": "stdout",
     "output_type": "stream",
     "text": [
      "Southampton:  33.69565217391305\n",
      "Cherbourg:  55.35714285714286\n",
      "Queenstown:  38.961038961038966\n"
     ]
    }
   ],
   "source": [
    "# Embarked\n",
    "\n",
    "southampton = train_data.loc[train_data['Embarked'] == 'S']['Survived']\n",
    "print(\"Southampton: \", sum(southampton)/len(southampton)*100)\n",
    "cherbourg = train_data.loc[train_data['Embarked'] == 'C']['Survived']\n",
    "print(\"Cherbourg: \", sum(cherbourg)/len(cherbourg)*100)\n",
    "queenstown = train_data.loc[train_data['Embarked'] == 'Q']['Survived']\n",
    "print(\"Queenstown: \", sum(queenstown)/len(queenstown)*100)"
   ]
  },
  {
   "cell_type": "code",
   "execution_count": 8,
   "id": "4b33f2a6",
   "metadata": {
    "execution": {
     "iopub.execute_input": "2023-04-23T00:06:32.992305Z",
     "iopub.status.busy": "2023-04-23T00:06:32.991870Z",
     "iopub.status.idle": "2023-04-23T00:06:33.128184Z",
     "shell.execute_reply": "2023-04-23T00:06:33.126527Z"
    },
    "papermill": {
     "duration": 0.147955,
     "end_time": "2023-04-23T00:06:33.130860",
     "exception": false,
     "start_time": "2023-04-23T00:06:32.982905",
     "status": "completed"
    },
    "tags": []
   },
   "outputs": [
    {
     "data": {
      "image/png": "[encoded data removed]",
      "text/plain": [
       "<Figure size 640x480 with 1 Axes>"
      ]
     },
     "metadata": {},
     "output_type": "display_data"
    }
   ],
   "source": [
    "x = np.array([\"S\",\"C\",\"Q\"])\n",
    "y = np.array([33.69565217391305,55.35714285714286,38.961038961038966])\n",
    "\n",
    "plt.bar(x,y)\n",
    "plt.show()"
   ]
  },
  {
   "cell_type": "code",
   "execution_count": 9,
   "id": "ae98f20c",
   "metadata": {
    "execution": {
     "iopub.execute_input": "2023-04-23T00:06:33.156628Z",
     "iopub.status.busy": "2023-04-23T00:06:33.155917Z",
     "iopub.status.idle": "2023-04-23T00:06:33.166669Z",
     "shell.execute_reply": "2023-04-23T00:06:33.165552Z"
    },
    "papermill": {
     "duration": 0.026498,
     "end_time": "2023-04-23T00:06:33.170044",
     "exception": false,
     "start_time": "2023-04-23T00:06:33.143546",
     "status": "completed"
    },
    "tags": []
   },
   "outputs": [
    {
     "name": "stdout",
     "output_type": "stream",
     "text": [
      "Class 1:  62.96296296296296\n",
      "Class 2:  47.28260869565217\n",
      "Class 3:  24.236252545824847\n"
     ]
    }
   ],
   "source": [
    "# Pclass\n",
    "\n",
    "class_1 = train_data.loc[train_data['Pclass'] == 1]['Survived']\n",
    "print(\"Class 1: \", sum(class_1)/len(class_1)*100)\n",
    "class_2 = train_data.loc[train_data['Pclass'] == 2]['Survived']\n",
    "print(\"Class 2: \", sum(class_2)/len(class_2)*100)\n",
    "class_3 = train_data.loc[train_data['Pclass'] == 3]['Survived']\n",
    "print(\"Class 3: \", sum(class_3)/len(class_3)*100)"
   ]
  },
  {
   "cell_type": "code",
   "execution_count": 10,
   "id": "95fc1390",
   "metadata": {
    "execution": {
     "iopub.execute_input": "2023-04-23T00:06:33.186689Z",
     "iopub.status.busy": "2023-04-23T00:06:33.186201Z",
     "iopub.status.idle": "2023-04-23T00:06:33.196591Z",
     "shell.execute_reply": "2023-04-23T00:06:33.195256Z"
    },
    "papermill": {
     "duration": 0.021553,
     "end_time": "2023-04-23T00:06:33.198955",
     "exception": false,
     "start_time": "2023-04-23T00:06:33.177402",
     "status": "completed"
    },
    "tags": []
   },
   "outputs": [],
   "source": [
    "train_data.drop(columns=['PassengerId', 'Name', 'Ticket', 'Cabin'],inplace=True)\n",
    "test_data.drop(columns=['PassengerId', 'Name', 'Ticket', 'Cabin'], inplace=True)"
   ]
  },
  {
   "cell_type": "code",
   "execution_count": 11,
   "id": "698c76fe",
   "metadata": {
    "execution": {
     "iopub.execute_input": "2023-04-23T00:06:33.215699Z",
     "iopub.status.busy": "2023-04-23T00:06:33.214875Z",
     "iopub.status.idle": "2023-04-23T00:06:33.222525Z",
     "shell.execute_reply": "2023-04-23T00:06:33.221349Z"
    },
    "papermill": {
     "duration": 0.019365,
     "end_time": "2023-04-23T00:06:33.225392",
     "exception": false,
     "start_time": "2023-04-23T00:06:33.206027",
     "status": "completed"
    },
    "tags": []
   },
   "outputs": [
    {
     "data": {
      "text/plain": [
       "Index(['Survived', 'Pclass', 'Sex', 'Age', 'SibSp', 'Parch', 'Fare',\n",
       "       'Embarked'],\n",
       "      dtype='object')"
      ]
     },
     "execution_count": 11,
     "metadata": {},
     "output_type": "execute_result"
    }
   ],
   "source": [
    "train_data.columns"
   ]
  },
  {
   "cell_type": "code",
   "execution_count": 12,
   "id": "69f2e4cd",
   "metadata": {
    "execution": {
     "iopub.execute_input": "2023-04-23T00:06:33.242072Z",
     "iopub.status.busy": "2023-04-23T00:06:33.241580Z",
     "iopub.status.idle": "2023-04-23T00:06:33.419999Z",
     "shell.execute_reply": "2023-04-23T00:06:33.418472Z"
    },
    "papermill": {
     "duration": 0.19003,
     "end_time": "2023-04-23T00:06:33.422997",
     "exception": false,
     "start_time": "2023-04-23T00:06:33.232967",
     "status": "completed"
    },
    "tags": []
   },
   "outputs": [],
   "source": [
    "from sklearn.preprocessing import LabelEncoder\n",
    "\n",
    "le = LabelEncoder()\n",
    "\n",
    "train_data['Sex'] = le.fit_transform(train_data['Sex'])\n",
    "train_data['Embarked'] = le.fit_transform(train_data['Embarked'])"
   ]
  },
  {
   "cell_type": "code",
   "execution_count": 13,
   "id": "1cb36a09",
   "metadata": {
    "execution": {
     "iopub.execute_input": "2023-04-23T00:06:33.440387Z",
     "iopub.status.busy": "2023-04-23T00:06:33.439491Z",
     "iopub.status.idle": "2023-04-23T00:06:33.455080Z",
     "shell.execute_reply": "2023-04-23T00:06:33.453706Z"
    },
    "papermill": {
     "duration": 0.027201,
     "end_time": "2023-04-23T00:06:33.457720",
     "exception": false,
     "start_time": "2023-04-23T00:06:33.430519",
     "status": "completed"
    },
    "tags": []
   },
   "outputs": [
    {
     "data": {
      "text/html": [
       "<div>\n",
       "<style scoped>\n",
       "    .dataframe tbody tr th:only-of-type {\n",
       "        vertical-align: middle;\n",
       "    }\n",
       "\n",
       "    .dataframe tbody tr th {\n",
       "        vertical-align: top;\n",
       "    }\n",
       "\n",
       "    .dataframe thead th {\n",
       "        text-align: right;\n",
       "    }\n",
       "</style>\n",
       "<table border=\"1\" class=\"dataframe\">\n",
       "  <thead>\n",
       "    <tr style=\"text-align: right;\">\n",
       "      <th></th>\n",
       "      <th>Survived</th>\n",
       "      <th>Pclass</th>\n",
       "      <th>Sex</th>\n",
       "      <th>Age</th>\n",
       "      <th>SibSp</th>\n",
       "      <th>Parch</th>\n",
       "      <th>Fare</th>\n",
       "      <th>Embarked</th>\n",
       "    </tr>\n",
       "  </thead>\n",
       "  <tbody>\n",
       "    <tr>\n",
       "      <th>0</th>\n",
       "      <td>0</td>\n",
       "      <td>3</td>\n",
       "      <td>1</td>\n",
       "      <td>22.0</td>\n",
       "      <td>1</td>\n",
       "      <td>0</td>\n",
       "      <td>7.2500</td>\n",
       "      <td>2</td>\n",
       "    </tr>\n",
       "    <tr>\n",
       "      <th>1</th>\n",
       "      <td>1</td>\n",
       "      <td>1</td>\n",
       "      <td>0</td>\n",
       "      <td>38.0</td>\n",
       "      <td>1</td>\n",
       "      <td>0</td>\n",
       "      <td>71.2833</td>\n",
       "      <td>0</td>\n",
       "    </tr>\n",
       "    <tr>\n",
       "      <th>2</th>\n",
       "      <td>1</td>\n",
       "      <td>3</td>\n",
       "      <td>0</td>\n",
       "      <td>26.0</td>\n",
       "      <td>0</td>\n",
       "      <td>0</td>\n",
       "      <td>7.9250</td>\n",
       "      <td>2</td>\n",
       "    </tr>\n",
       "    <tr>\n",
       "      <th>3</th>\n",
       "      <td>1</td>\n",
       "      <td>1</td>\n",
       "      <td>0</td>\n",
       "      <td>35.0</td>\n",
       "      <td>1</td>\n",
       "      <td>0</td>\n",
       "      <td>53.1000</td>\n",
       "      <td>2</td>\n",
       "    </tr>\n",
       "    <tr>\n",
       "      <th>4</th>\n",
       "      <td>0</td>\n",
       "      <td>3</td>\n",
       "      <td>1</td>\n",
       "      <td>35.0</td>\n",
       "      <td>0</td>\n",
       "      <td>0</td>\n",
       "      <td>8.0500</td>\n",
       "      <td>2</td>\n",
       "    </tr>\n",
       "  </tbody>\n",
       "</table>\n",
       "</div>"
      ],
      "text/plain": [
       "   Survived  Pclass  Sex   Age  SibSp  Parch     Fare  Embarked\n",
       "0         0       3    1  22.0      1      0   7.2500         2\n",
       "1         1       1    0  38.0      1      0  71.2833         0\n",
       "2         1       3    0  26.0      0      0   7.9250         2\n",
       "3         1       1    0  35.0      1      0  53.1000         2\n",
       "4         0       3    1  35.0      0      0   8.0500         2"
      ]
     },
     "execution_count": 13,
     "metadata": {},
     "output_type": "execute_result"
    }
   ],
   "source": [
    "train_data.head()"
   ]
  },
  {
   "cell_type": "code",
   "execution_count": 14,
   "id": "885848fc",
   "metadata": {
    "execution": {
     "iopub.execute_input": "2023-04-23T00:06:33.474394Z",
     "iopub.status.busy": "2023-04-23T00:06:33.473968Z",
     "iopub.status.idle": "2023-04-23T00:06:33.489693Z",
     "shell.execute_reply": "2023-04-23T00:06:33.488242Z"
    },
    "papermill": {
     "duration": 0.027687,
     "end_time": "2023-04-23T00:06:33.492736",
     "exception": false,
     "start_time": "2023-04-23T00:06:33.465049",
     "status": "completed"
    },
    "tags": []
   },
   "outputs": [
    {
     "name": "stdout",
     "output_type": "stream",
     "text": [
      "<class 'pandas.core.frame.DataFrame'>\n",
      "RangeIndex: 891 entries, 0 to 890\n",
      "Data columns (total 8 columns):\n",
      " #   Column    Non-Null Count  Dtype  \n",
      "---  ------    --------------  -----  \n",
      " 0   Survived  891 non-null    int64  \n",
      " 1   Pclass    891 non-null    int64  \n",
      " 2   Sex       891 non-null    int64  \n",
      " 3   Age       714 non-null    float64\n",
      " 4   SibSp     891 non-null    int64  \n",
      " 5   Parch     891 non-null    int64  \n",
      " 6   Fare      891 non-null    float64\n",
      " 7   Embarked  891 non-null    int64  \n",
      "dtypes: float64(2), int64(6)\n",
      "memory usage: 55.8 KB\n"
     ]
    }
   ],
   "source": [
    "train_data.info()"
   ]
  },
  {
   "cell_type": "code",
   "execution_count": 15,
   "id": "ead2fbdd",
   "metadata": {
    "execution": {
     "iopub.execute_input": "2023-04-23T00:06:33.510358Z",
     "iopub.status.busy": "2023-04-23T00:06:33.509956Z",
     "iopub.status.idle": "2023-04-23T00:06:34.094502Z",
     "shell.execute_reply": "2023-04-23T00:06:34.093158Z"
    },
    "papermill": {
     "duration": 0.596991,
     "end_time": "2023-04-23T00:06:34.097633",
     "exception": false,
     "start_time": "2023-04-23T00:06:33.500642",
     "status": "completed"
    },
    "tags": []
   },
   "outputs": [
    {
     "data": {
      "image/png": "[encoded data removed]",
      "text/plain": [
       "<Figure size 640x480 with 2 Axes>"
      ]
     },
     "metadata": {},
     "output_type": "display_data"
    }
   ],
   "source": [
    "sns.heatmap(train_data.corr(),cmap=\"YlGnBu\",annot=True, fmt='.2f')\n",
    "plt.show()"
   ]
  },
  {
   "cell_type": "code",
   "execution_count": 16,
   "id": "6d2d3af5",
   "metadata": {
    "execution": {
     "iopub.execute_input": "2023-04-23T00:06:34.117909Z",
     "iopub.status.busy": "2023-04-23T00:06:34.117187Z",
     "iopub.status.idle": "2023-04-23T00:06:34.127291Z",
     "shell.execute_reply": "2023-04-23T00:06:34.126039Z"
    },
    "papermill": {
     "duration": 0.023497,
     "end_time": "2023-04-23T00:06:34.129932",
     "exception": false,
     "start_time": "2023-04-23T00:06:34.106435",
     "status": "completed"
    },
    "tags": []
   },
   "outputs": [
    {
     "data": {
      "text/plain": [
       "Survived      0\n",
       "Pclass        0\n",
       "Sex           0\n",
       "Age         177\n",
       "SibSp         0\n",
       "Parch         0\n",
       "Fare          0\n",
       "Embarked      0\n",
       "dtype: int64"
      ]
     },
     "execution_count": 16,
     "metadata": {},
     "output_type": "execute_result"
    }
   ],
   "source": [
    "train_data.isna().sum()"
   ]
  },
  {
   "cell_type": "code",
   "execution_count": 17,
   "id": "fdd621b3",
   "metadata": {
    "execution": {
     "iopub.execute_input": "2023-04-23T00:06:34.150915Z",
     "iopub.status.busy": "2023-04-23T00:06:34.150421Z",
     "iopub.status.idle": "2023-04-23T00:06:34.159950Z",
     "shell.execute_reply": "2023-04-23T00:06:34.158665Z"
    },
    "papermill": {
     "duration": 0.022892,
     "end_time": "2023-04-23T00:06:34.162746",
     "exception": false,
     "start_time": "2023-04-23T00:06:34.139854",
     "status": "completed"
    },
    "tags": []
   },
   "outputs": [],
   "source": [
    "train_data.dropna(inplace=True)"
   ]
  },
  {
   "cell_type": "code",
   "execution_count": 18,
   "id": "d7ea5289",
   "metadata": {
    "execution": {
     "iopub.execute_input": "2023-04-23T00:06:34.182334Z",
     "iopub.status.busy": "2023-04-23T00:06:34.181882Z",
     "iopub.status.idle": "2023-04-23T00:06:34.192512Z",
     "shell.execute_reply": "2023-04-23T00:06:34.191186Z"
    },
    "papermill": {
     "duration": 0.023342,
     "end_time": "2023-04-23T00:06:34.195079",
     "exception": false,
     "start_time": "2023-04-23T00:06:34.171737",
     "status": "completed"
    },
    "tags": []
   },
   "outputs": [
    {
     "data": {
      "text/plain": [
       "Survived    0\n",
       "Pclass      0\n",
       "Sex         0\n",
       "Age         0\n",
       "SibSp       0\n",
       "Parch       0\n",
       "Fare        0\n",
       "Embarked    0\n",
       "dtype: int64"
      ]
     },
     "execution_count": 18,
     "metadata": {},
     "output_type": "execute_result"
    }
   ],
   "source": [
    "train_data.isna().sum()"
   ]
  },
  {
   "cell_type": "code",
   "execution_count": 19,
   "id": "5a55bb21",
   "metadata": {
    "execution": {
     "iopub.execute_input": "2023-04-23T00:06:34.215941Z",
     "iopub.status.busy": "2023-04-23T00:06:34.215042Z",
     "iopub.status.idle": "2023-04-23T00:06:34.222997Z",
     "shell.execute_reply": "2023-04-23T00:06:34.221567Z"
    },
    "papermill": {
     "duration": 0.021772,
     "end_time": "2023-04-23T00:06:34.225799",
     "exception": false,
     "start_time": "2023-04-23T00:06:34.204027",
     "status": "completed"
    },
    "tags": []
   },
   "outputs": [
    {
     "data": {
      "text/plain": [
       "(714, 8)"
      ]
     },
     "execution_count": 19,
     "metadata": {},
     "output_type": "execute_result"
    }
   ],
   "source": [
    "train_data.shape"
   ]
  },
  {
   "cell_type": "code",
   "execution_count": 20,
   "id": "15d8861d",
   "metadata": {
    "execution": {
     "iopub.execute_input": "2023-04-23T00:06:34.246581Z",
     "iopub.status.busy": "2023-04-23T00:06:34.245595Z",
     "iopub.status.idle": "2023-04-23T00:06:34.253303Z",
     "shell.execute_reply": "2023-04-23T00:06:34.251864Z"
    },
    "papermill": {
     "duration": 0.020759,
     "end_time": "2023-04-23T00:06:34.255843",
     "exception": false,
     "start_time": "2023-04-23T00:06:34.235084",
     "status": "completed"
    },
    "tags": []
   },
   "outputs": [],
   "source": [
    "x = train_data[['Pclass','Sex','Age','SibSp','Parch','Fare', 'Embarked']]\n",
    "y = train_data['Survived']"
   ]
  },
  {
   "cell_type": "code",
   "execution_count": 21,
   "id": "4d60d1a2",
   "metadata": {
    "execution": {
     "iopub.execute_input": "2023-04-23T00:06:34.276129Z",
     "iopub.status.busy": "2023-04-23T00:06:34.275167Z",
     "iopub.status.idle": "2023-04-23T00:06:34.940800Z",
     "shell.execute_reply": "2023-04-23T00:06:34.939082Z"
    },
    "papermill": {
     "duration": 0.679459,
     "end_time": "2023-04-23T00:06:34.944329",
     "exception": false,
     "start_time": "2023-04-23T00:06:34.264870",
     "status": "completed"
    },
    "tags": []
   },
   "outputs": [
    {
     "name": "stdout",
     "output_type": "stream",
     "text": [
      "Accuracy: 0.8111888111888111\n"
     ]
    }
   ],
   "source": [
    "from sklearn.ensemble import RandomForestClassifier\n",
    "from sklearn.metrics import accuracy_score\n",
    "from sklearn.model_selection import train_test_split\n",
    "\n",
    "\n",
    "# Split data into training and testing sets\n",
    "X_train, X_test, y_train, y_test = train_test_split(x, y, test_size=0.2)\n",
    "\n",
    "# Train random forest classifier\n",
    "rf = RandomForestClassifier(n_estimators=100)\n",
    "rf.fit(X_train, y_train)\n",
    "\n",
    "# Make predictions on test set\n",
    "y_pred = rf.predict(X_test)\n",
    "\n",
    "# Calculate accuracy score\n",
    "accuracy = accuracy_score(y_test, y_pred)\n",
    "print('Accuracy:', accuracy)"
   ]
  },
  {
   "cell_type": "code",
   "execution_count": null,
   "id": "97d9b810",
   "metadata": {
    "papermill": {
     "duration": 0.009744,
     "end_time": "2023-04-23T00:06:34.964070",
     "exception": false,
     "start_time": "2023-04-23T00:06:34.954326",
     "status": "completed"
    },
    "tags": []
   },
   "outputs": [],
   "source": []
  }
 ],
 "metadata": {
  "kernelspec": {
   "display_name": "Python 3",
   "language": "python",
   "name": "python3"
  },
  "language_info": {
   "codemirror_mode": {
    "name": "ipython",
    "version": 3
   },
   "file_extension": ".py",
   "mimetype": "text/x-python",
   "name": "python",
   "nbconvert_exporter": "python",
   "pygments_lexer": "ipython3",
   "version": "3.7.12"
  },
  "papermill": {
   "default_parameters": {},
   "duration": 15.749695,
   "end_time": "2023-04-23T00:06:36.000037",
   "environment_variables": {},
   "exception": null,
   "input_path": "__notebook__.ipynb",
   "output_path": "__notebook__.ipynb",
   "parameters": {},
   "start_time": "2023-04-23T00:06:20.250342",
   "version": "2.4.0"
  }
 },
 "nbformat": 4,
 "nbformat_minor": 5
}
